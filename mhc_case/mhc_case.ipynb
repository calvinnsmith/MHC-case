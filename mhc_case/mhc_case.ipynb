{
 "cells": [
  {
   "cell_type": "code",
   "execution_count": null,
   "id": "ab7c9635",
   "metadata": {},
   "outputs": [],
   "source": [
    "import os\n",
    "import pandas as pd\n",
    "import numpy as np\n",
    "import matplotlib.pyplot as plt\n",
    "import seaborn as sns"
   ]
  },
  {
   "cell_type": "code",
   "execution_count": null,
   "id": "09505e33",
   "metadata": {},
   "outputs": [],
   "source": [
    "os.chdir('data')\n",
    "os.listdir()"
   ]
  },
  {
   "cell_type": "markdown",
   "id": "084d5cb3",
   "metadata": {},
   "source": [
    "## Loading the datasets"
   ]
  },
  {
   "cell_type": "code",
   "execution_count": null,
   "id": "888ff89d",
   "metadata": {},
   "outputs": [],
   "source": [
    "data = {}\n",
    "\n",
    "for file in os.listdir():\n",
    "    data[file] = pd.read_csv(file)"
   ]
  },
  {
   "cell_type": "code",
   "execution_count": null,
   "id": "013819e5",
   "metadata": {},
   "outputs": [],
   "source": [
    "os.chdir('../')"
   ]
  },
  {
   "cell_type": "markdown",
   "id": "8740fd9f",
   "metadata": {},
   "source": [
    "## Patient medical trajectory"
   ]
  },
  {
   "cell_type": "code",
   "execution_count": null,
   "id": "ac71b32f",
   "metadata": {},
   "outputs": [],
   "source": [
    "# select random patient from the patient directory\n",
    "patient_id = data['patients.csv'].sample(n=1).reset_index(drop = True)['Id']"
   ]
  },
  {
   "cell_type": "code",
   "execution_count": null,
   "id": "611391a4",
   "metadata": {},
   "outputs": [],
   "source": [
    "patient_encounters = data['encounters.csv'][data['encounters.csv']['PATIENT'] == patient_id[0]]\n",
    "patient_conditions = data['conditions.csv'][data['conditions.csv']['PATIENT'] == patient_id[0]]\n",
    "patient_medications =  data['medications.csv'][data['medications.csv']['PATIENT'] == patient_id[0]]\n",
    "patient_procedures = data['procedures.csv'][data['procedures.csv']['PATIENT'] == patient_id[0]]"
   ]
  },
  {
   "cell_type": "markdown",
   "id": "a87993dc",
   "metadata": {},
   "source": [
    "### Visualizing patients conditions"
   ]
  },
  {
   "cell_type": "code",
   "execution_count": null,
   "id": "6697d761",
   "metadata": {},
   "outputs": [],
   "source": [
    "dates = pd.to_datetime(patient_conditions['START'].reset_index(drop = True))\n",
    "description = patient_conditions['DESCRIPTION'].reset_index(drop = True)\n",
    "birthdate = data['patients.csv'][data['patients.csv']['Id'] == patient_id[0]].reset_index(drop = True)['BIRTHDATE'][0]"
   ]
  },
  {
   "cell_type": "code",
   "execution_count": null,
   "id": "4e615d9e",
   "metadata": {
    "scrolled": true
   },
   "outputs": [],
   "source": [
    "levels = np.tile([-4, 4, -3, 3, -2, 2],\n",
    "                 int(np.ceil(len(dates)/6)))[:len(dates)]\n",
    "\n",
    "\n",
    "fig, ax = plt.subplots(figsize =(10,7))\n",
    "ax.yaxis.set_visible(False)\n",
    "ax.spines[[\"left\", \"top\", \"right\"]].set_visible(False)\n",
    "ax.plot(dates,np.zeros_like(dates),\"-o\",markerfacecolor = \"w\")\n",
    "ax.vlines(dates,0,levels)\n",
    "\n",
    "for d, l, r in zip(dates, levels, description):\n",
    "    ax.annotate(r, xy=(d, l),\n",
    "                xytext=(-3, np.sign(l)*3), textcoords=\"offset points\",\n",
    "                horizontalalignment=\"center\",\n",
    "                verticalalignment=\"bottom\" if l > 0 else \"top\",fontsize = 10)\n",
    "\n",
    "plt.title('Patient Medical Conditions: Timeline \\n Birthdate:{}'.format(birthdate),y = 1.05)\n",
    "plt.savefig('medical_timeline.pdf')\n",
    "plt.show()\n",
    "\n"
   ]
  },
  {
   "cell_type": "markdown",
   "id": "a9a1bd8c",
   "metadata": {},
   "source": [
    "### List of medications prescribed for each condition:"
   ]
  },
  {
   "cell_type": "code",
   "execution_count": null,
   "id": "d54b95ed",
   "metadata": {
    "scrolled": true
   },
   "outputs": [],
   "source": [
    "cond_med = pd.DataFrame({'Condition':patient_medications.groupby(['REASONDESCRIPTION','DESCRIPTION'])['DESCRIPTION'].count().index.get_level_values(0),\n",
    "                       'Medication':patient_medications.groupby(['REASONDESCRIPTION','DESCRIPTION'])['DESCRIPTION'].count().index.get_level_values(1)\n",
    "                      }).reset_index(drop = True)\n",
    "\n",
    "cond_med"
   ]
  },
  {
   "cell_type": "markdown",
   "id": "c5838bc0",
   "metadata": {},
   "source": [
    "### Procedures undergone by patient:"
   ]
  },
  {
   "cell_type": "code",
   "execution_count": null,
   "id": "04af387c",
   "metadata": {},
   "outputs": [],
   "source": [
    "procedure = patient_procedures[['DATE','DESCRIPTION','REASONDESCRIPTION']]\n",
    "procedure['DATE'] = pd.to_datetime(procedure['DATE']).dt.year\n",
    "procedure.rename(columns = {'REASONDESCRIPTION':'Condition','DATE':'Year','DESCRIPTION':'Procedure'},inplace = True)\n",
    "\n",
    "\n",
    "procedure"
   ]
  },
  {
   "cell_type": "markdown",
   "id": "6926a661",
   "metadata": {},
   "source": [
    "## What are the most common conditions?"
   ]
  },
  {
   "cell_type": "markdown",
   "id": "5b7ecb64",
   "metadata": {},
   "source": [
    "### Top 10 conditions by number of cases"
   ]
  },
  {
   "cell_type": "code",
   "execution_count": null,
   "id": "e83c40cd",
   "metadata": {
    "scrolled": true
   },
   "outputs": [],
   "source": [
    "condition_counts = pd.DataFrame({'condition': data['conditions.csv'].groupby('DESCRIPTION')['DESCRIPTION'].count().index,'cases':data['conditions.csv'].groupby('DESCRIPTION')['DESCRIPTION'].count()}).reset_index(drop = True)\n",
    "condition_counts.sort_values(by = 'cases',ascending = False)[0:5]"
   ]
  },
  {
   "cell_type": "code",
   "execution_count": null,
   "id": "2ae2c7d4",
   "metadata": {},
   "outputs": [],
   "source": [
    "p = sns.barplot(data = condition_counts.sort_values(by = 'cases',ascending = False)[0:10],x = 'cases',y = 'condition',orient = 'h')\n",
    "plt.xlabel(' Total Number of Cases')\n",
    "plt.ylabel('Condition')\n",
    "plt.title('Top ten conditions by total number of cases')\n",
    "plt.savefig('top_ten_total.pdf',bbox_inches = 'tight')\n",
    "plt.show()"
   ]
  },
  {
   "cell_type": "markdown",
   "id": "85859235",
   "metadata": {},
   "source": [
    "### Top 10 conditions by number of people affected"
   ]
  },
  {
   "cell_type": "code",
   "execution_count": null,
   "id": "3ae2b3ab",
   "metadata": {},
   "outputs": [],
   "source": [
    "condition_cases = data['conditions.csv'].groupby(['DESCRIPTION','PATIENT'],as_index = False)[['PATIENT']].count()\n",
    "condition_df = pd.DataFrame({'condition':condition_cases.groupby('DESCRIPTION')['PATIENT'].count().index,\n",
    "                            'nr_affected':condition_cases.groupby('DESCRIPTION')['PATIENT'].count()}).reset_index(drop = True)\n",
    "condition_df['percentage'] = np.round(condition_df['nr_affected']/len(data['patients.csv']),2)"
   ]
  },
  {
   "cell_type": "code",
   "execution_count": null,
   "id": "a7e89c0c",
   "metadata": {},
   "outputs": [],
   "source": [
    "p = sns.barplot(data = condition_df.sort_values(by = 'percentage',ascending = False)[0:10],x = 'percentage',y = 'condition',orient = 'h')\n",
    "p.set_xticklabels(['0 %','10 %','20 %','30 %','40 %','50 %','60 %'])\n",
    "plt.xlabel('Percentage of people affected')\n",
    "plt.ylabel('Condition')\n",
    "plt.title('Top ten conditions by percentage of people affected')\n",
    "plt.savefig('top_ten_people.pdf',bbox_inches = 'tight')\n",
    "plt.show()"
   ]
  },
  {
   "cell_type": "code",
   "execution_count": null,
   "id": "5d2b096c",
   "metadata": {},
   "outputs": [],
   "source": [
    "condition_df.sort_values(by = 'percentage',ascending = False)[0:10]"
   ]
  },
  {
   "cell_type": "markdown",
   "id": "c3476b37",
   "metadata": {},
   "source": [
    "## How are the most common conditions treated?"
   ]
  },
  {
   "cell_type": "code",
   "execution_count": null,
   "id": "1ae4e08c",
   "metadata": {},
   "outputs": [],
   "source": [
    "top_list = list(condition_df.sort_values(by = 'percentage',ascending = False)[0:3]['condition'])"
   ]
  },
  {
   "cell_type": "markdown",
   "id": "863b7763",
   "metadata": {},
   "source": [
    "### Medications"
   ]
  },
  {
   "cell_type": "code",
   "execution_count": null,
   "id": "6be831ab",
   "metadata": {},
   "outputs": [],
   "source": [
    "top_medications = data['medications.csv'][data['medications.csv']['REASONDESCRIPTION'].isin(top_list)]"
   ]
  },
  {
   "cell_type": "code",
   "execution_count": null,
   "id": "cbbe4c15",
   "metadata": {},
   "outputs": [],
   "source": [
    "med_df = pd.DataFrame(\n",
    "    {'condition':top_medications.groupby(['REASONDESCRIPTION','DESCRIPTION'])[['DESCRIPTION']].count().index.get_level_values(0) ,\n",
    "     'medication':top_medications.groupby(['REASONDESCRIPTION','DESCRIPTION'])[['DESCRIPTION']].count().index.get_level_values(1),\n",
    "     'prescribed':top_medications.groupby(['REASONDESCRIPTION','DESCRIPTION'])['DESCRIPTION'].count()}).reset_index(drop = True)\n",
    "\n"
   ]
  },
  {
   "cell_type": "code",
   "execution_count": null,
   "id": "660b512e",
   "metadata": {},
   "outputs": [],
   "source": [
    "med_df = med_df.merge(condition_counts,on ='condition')\n",
    "med_df['percentage'] = np.round(med_df['prescribed']/med_df['cases'],2)"
   ]
  },
  {
   "cell_type": "code",
   "execution_count": null,
   "id": "df0e88a6",
   "metadata": {},
   "outputs": [],
   "source": [
    "med_df"
   ]
  },
  {
   "cell_type": "markdown",
   "id": "2a5ee362",
   "metadata": {},
   "source": [
    "### Procedures"
   ]
  },
  {
   "cell_type": "code",
   "execution_count": null,
   "id": "213620c1",
   "metadata": {},
   "outputs": [],
   "source": [
    "top_procedures = data['procedures.csv'][data['procedures.csv']['REASONDESCRIPTION'].isin(top_list)]"
   ]
  },
  {
   "cell_type": "code",
   "execution_count": null,
   "id": "d7382df9",
   "metadata": {},
   "outputs": [],
   "source": [
    "proc_df = pd.DataFrame(\n",
    "    {'condition':top_procedures.groupby(['REASONDESCRIPTION','DESCRIPTION'])[['DESCRIPTION']].count().index.get_level_values(0) ,\n",
    "     'procedure':top_procedures.groupby(['REASONDESCRIPTION','DESCRIPTION'])[['DESCRIPTION']].count().index.get_level_values(1),\n",
    "     'counts':top_procedures.groupby(['REASONDESCRIPTION','DESCRIPTION'])['DESCRIPTION'].count()}).reset_index(drop = True)\n",
    "\n",
    "proc_df = proc_df.merge(condition_counts,on ='condition')\n",
    "proc_df['percentage'] = np.round(proc_df['counts']/proc_df['cases'],2)\n"
   ]
  },
  {
   "cell_type": "markdown",
   "id": "898bf59a",
   "metadata": {},
   "source": [
    "proc_df"
   ]
  },
  {
   "cell_type": "markdown",
   "id": "77697b7e",
   "metadata": {},
   "source": [
    "### Careplans"
   ]
  },
  {
   "cell_type": "code",
   "execution_count": null,
   "id": "feba08a8",
   "metadata": {},
   "outputs": [],
   "source": [
    "top_careplans = data['careplans.csv'][data['careplans.csv']['REASONDESCRIPTION'].isin(top_list)]"
   ]
  },
  {
   "cell_type": "code",
   "execution_count": 566,
   "id": "c0edd56f",
   "metadata": {
    "scrolled": true
   },
   "outputs": [],
   "source": [
    "care_df = top_careplans.groupby(['REASONDESCRIPTION','DESCRIPTION'])[['DESCRIPTION']].count()"
   ]
  },
  {
   "cell_type": "code",
   "execution_count": null,
   "id": "d900d6e9",
   "metadata": {},
   "outputs": [],
   "source": [
    "care_df"
   ]
  },
  {
   "cell_type": "markdown",
   "id": "75512b95",
   "metadata": {},
   "source": [
    "### Are there any other patterns among these condtions?"
   ]
  },
  {
   "cell_type": "code",
   "execution_count": null,
   "id": "d17e0026",
   "metadata": {},
   "outputs": [],
   "source": [
    "# Merging the top three conditions with age of patients\n",
    "common_age = pd.merge(data['conditions.csv'][data['conditions.csv']['DESCRIPTION'].isin(top_list)],\n",
    "         data['patients.csv'][['Id','BIRTHDATE','PREFIX']],left_on = 'PATIENT',right_on = 'Id')"
   ]
  },
  {
   "cell_type": "code",
   "execution_count": null,
   "id": "2eddc3ee",
   "metadata": {},
   "outputs": [],
   "source": [
    "common_age['AGE'] = pd.to_datetime(common_age['START']).dt.year - pd.to_datetime(common_age['BIRTHDATE']).dt.year\n",
    "common_age.replace({'PREFIX':{'Mrs.':'FEMALE','Ms.':'FEMALE','Mr.':'MALE'}},inplace = True)\n",
    "common_age.rename(columns = {'PREFIX':'Gender','DESCRIPTION':'Condition'},inplace = True)"
   ]
  },
  {
   "cell_type": "markdown",
   "id": "542537ee",
   "metadata": {},
   "source": [
    "####  Distribution of condition by age"
   ]
  },
  {
   "cell_type": "code",
   "execution_count": null,
   "id": "3dbd7f26",
   "metadata": {},
   "outputs": [],
   "source": [
    "sns.histplot(data = common_age, x = 'AGE',hue = 'Condition',element = 'poly')\n",
    "plt.title('Distribution of condition by age')\n",
    "plt.savefig('dist_age.pdf')\n",
    "plt.show()"
   ]
  },
  {
   "cell_type": "markdown",
   "id": "1a925bac",
   "metadata": {},
   "source": [
    "#### Distribution of condition by age and gender"
   ]
  },
  {
   "cell_type": "code",
   "execution_count": null,
   "id": "865b4b54",
   "metadata": {},
   "outputs": [],
   "source": [
    "sns.displot(data = common_age, x = 'AGE',hue = 'Condition',col = 'Gender',kind = 'hist')\n",
    "plt.title('Distribution of conditions by age and gender',loc = 'left', x = -0.60,y = 1.10,fontsize = 15)\n",
    "plt.savefig('cond_age_gender.pdf',bbox_inches = 'tight')\n",
    "plt.show()"
   ]
  },
  {
   "cell_type": "markdown",
   "id": "5b9fb036",
   "metadata": {},
   "source": [
    "#### Number of cases by gender"
   ]
  },
  {
   "cell_type": "code",
   "execution_count": null,
   "id": "d4ae13a7",
   "metadata": {},
   "outputs": [],
   "source": [
    "s = sns.displot(data = common_age, x = 'Condition',hue = 'Gender',multiple = 'dodge',shrink = 0.5)\n",
    "s.set_xticklabels(['Sinusitis','Pharyngitis','Bronchitis'])\n",
    "plt.title('Number of cases by gender')\n",
    "plt.savefig('nr_gender.pdf',bbox_inches = 'tight')\n",
    "plt.show()"
   ]
  }
 ],
 "metadata": {
  "kernelspec": {
   "display_name": "Python 3 (ipykernel)",
   "language": "python",
   "name": "python3"
  },
  "language_info": {
   "codemirror_mode": {
    "name": "ipython",
    "version": 3
   },
   "file_extension": ".py",
   "mimetype": "text/x-python",
   "name": "python",
   "nbconvert_exporter": "python",
   "pygments_lexer": "ipython3",
   "version": "3.9.13"
  }
 },
 "nbformat": 4,
 "nbformat_minor": 5
}
